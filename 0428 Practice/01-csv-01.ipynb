{
 "cells": [
  {
   "cell_type": "code",
   "execution_count": 1,
   "metadata": {},
   "outputs": [
    {
     "name": "stdout",
     "output_type": "stream",
     "text": [
      "C:\\Users\\David R\\Downloads\n"
     ]
    }
   ],
   "source": [
    "cd Downloads"
   ]
  },
  {
   "cell_type": "code",
   "execution_count": 2,
   "metadata": {},
   "outputs": [
    {
     "data": {
      "text/plain": [
       "'C:\\\\Users\\\\David R\\\\Downloads'"
      ]
     },
     "execution_count": 2,
     "metadata": {},
     "output_type": "execute_result"
    }
   ],
   "source": [
    "pwd"
   ]
  },
  {
   "cell_type": "code",
   "execution_count": 3,
   "metadata": {},
   "outputs": [],
   "source": [
    "import pandas as pd"
   ]
  },
  {
   "cell_type": "code",
   "execution_count": 5,
   "metadata": {},
   "outputs": [],
   "source": [
    "people_df = pd.read_csv(\"people428.csv\")"
   ]
  },
  {
   "cell_type": "code",
   "execution_count": 6,
   "metadata": {},
   "outputs": [
    {
     "data": {
      "text/html": [
       "<div>\n",
       "<style scoped>\n",
       "    .dataframe tbody tr th:only-of-type {\n",
       "        vertical-align: middle;\n",
       "    }\n",
       "\n",
       "    .dataframe tbody tr th {\n",
       "        vertical-align: top;\n",
       "    }\n",
       "\n",
       "    .dataframe thead th {\n",
       "        text-align: right;\n",
       "    }\n",
       "</style>\n",
       "<table border=\"1\" class=\"dataframe\">\n",
       "  <thead>\n",
       "    <tr style=\"text-align: right;\">\n",
       "      <th></th>\n",
       "      <th>id</th>\n",
       "      <th>first_name</th>\n",
       "      <th>last_name</th>\n",
       "      <th>email</th>\n",
       "      <th>gender</th>\n",
       "      <th>uni_grad</th>\n",
       "      <th>job_title</th>\n",
       "      <th>Income</th>\n",
       "    </tr>\n",
       "  </thead>\n",
       "  <tbody>\n",
       "    <tr>\n",
       "      <th>0</th>\n",
       "      <td>1.0</td>\n",
       "      <td>Keriann</td>\n",
       "      <td>Lenormand</td>\n",
       "      <td>klenormand0@businessinsider.com</td>\n",
       "      <td>Female</td>\n",
       "      <td>Aurora University</td>\n",
       "      <td>Nurse Practicioner</td>\n",
       "      <td>58135.0</td>\n",
       "    </tr>\n",
       "    <tr>\n",
       "      <th>1</th>\n",
       "      <td>2.0</td>\n",
       "      <td>Huntley</td>\n",
       "      <td>Rupke</td>\n",
       "      <td>hrupke1@reuters.com</td>\n",
       "      <td>Male</td>\n",
       "      <td>Osaka University of Economics</td>\n",
       "      <td>Project Manager</td>\n",
       "      <td>96053.0</td>\n",
       "    </tr>\n",
       "    <tr>\n",
       "      <th>2</th>\n",
       "      <td>3.0</td>\n",
       "      <td>Gorden</td>\n",
       "      <td>Dalgarnowch</td>\n",
       "      <td>gdalgarnowch2@microsoft.com</td>\n",
       "      <td>Male</td>\n",
       "      <td>Ludong University</td>\n",
       "      <td>Environmental Tech</td>\n",
       "      <td>59196.0</td>\n",
       "    </tr>\n",
       "    <tr>\n",
       "      <th>3</th>\n",
       "      <td>4.0</td>\n",
       "      <td>Cullie</td>\n",
       "      <td>NaN</td>\n",
       "      <td>cputten3@nymag.com</td>\n",
       "      <td>Male</td>\n",
       "      <td>Université des Sciences et de la Technologie d...</td>\n",
       "      <td>Legal Assistant</td>\n",
       "      <td>88493.0</td>\n",
       "    </tr>\n",
       "    <tr>\n",
       "      <th>4</th>\n",
       "      <td>5.0</td>\n",
       "      <td>Ariel</td>\n",
       "      <td>Strangman</td>\n",
       "      <td>astrangman4@bravesites.com</td>\n",
       "      <td>Female</td>\n",
       "      <td>Boise State University</td>\n",
       "      <td>Project Manager</td>\n",
       "      <td>89073.0</td>\n",
       "    </tr>\n",
       "  </tbody>\n",
       "</table>\n",
       "</div>"
      ],
      "text/plain": [
       "    id first_name    last_name                            email  gender  \\\n",
       "0  1.0    Keriann    Lenormand  klenormand0@businessinsider.com  Female   \n",
       "1  2.0    Huntley        Rupke              hrupke1@reuters.com    Male   \n",
       "2  3.0     Gorden  Dalgarnowch      gdalgarnowch2@microsoft.com    Male   \n",
       "3  4.0     Cullie          NaN               cputten3@nymag.com    Male   \n",
       "4  5.0      Ariel    Strangman       astrangman4@bravesites.com  Female   \n",
       "\n",
       "                                            uni_grad           job_title  \\\n",
       "0                                  Aurora University  Nurse Practicioner   \n",
       "1                      Osaka University of Economics     Project Manager   \n",
       "2                                  Ludong University  Environmental Tech   \n",
       "3  Université des Sciences et de la Technologie d...     Legal Assistant   \n",
       "4                             Boise State University     Project Manager   \n",
       "\n",
       "    Income  \n",
       "0  58135.0  \n",
       "1  96053.0  \n",
       "2  59196.0  \n",
       "3  88493.0  \n",
       "4  89073.0  "
      ]
     },
     "execution_count": 6,
     "metadata": {},
     "output_type": "execute_result"
    }
   ],
   "source": [
    "people_df.head()"
   ]
  },
  {
   "cell_type": "code",
   "execution_count": 7,
   "metadata": {},
   "outputs": [
    {
     "data": {
      "text/html": [
       "<div>\n",
       "<style scoped>\n",
       "    .dataframe tbody tr th:only-of-type {\n",
       "        vertical-align: middle;\n",
       "    }\n",
       "\n",
       "    .dataframe tbody tr th {\n",
       "        vertical-align: top;\n",
       "    }\n",
       "\n",
       "    .dataframe thead th {\n",
       "        text-align: right;\n",
       "    }\n",
       "</style>\n",
       "<table border=\"1\" class=\"dataframe\">\n",
       "  <thead>\n",
       "    <tr style=\"text-align: right;\">\n",
       "      <th></th>\n",
       "      <th>id</th>\n",
       "      <th>Income</th>\n",
       "    </tr>\n",
       "  </thead>\n",
       "  <tbody>\n",
       "    <tr>\n",
       "      <th>count</th>\n",
       "      <td>996.000000</td>\n",
       "      <td>998.000000</td>\n",
       "    </tr>\n",
       "    <tr>\n",
       "      <th>mean</th>\n",
       "      <td>500.213855</td>\n",
       "      <td>84691.693387</td>\n",
       "    </tr>\n",
       "    <tr>\n",
       "      <th>std</th>\n",
       "      <td>289.172174</td>\n",
       "      <td>20185.664319</td>\n",
       "    </tr>\n",
       "    <tr>\n",
       "      <th>min</th>\n",
       "      <td>1.000000</td>\n",
       "      <td>50013.000000</td>\n",
       "    </tr>\n",
       "    <tr>\n",
       "      <th>25%</th>\n",
       "      <td>249.750000</td>\n",
       "      <td>67353.000000</td>\n",
       "    </tr>\n",
       "    <tr>\n",
       "      <th>50%</th>\n",
       "      <td>500.000000</td>\n",
       "      <td>84296.000000</td>\n",
       "    </tr>\n",
       "    <tr>\n",
       "      <th>75%</th>\n",
       "      <td>750.250000</td>\n",
       "      <td>102374.750000</td>\n",
       "    </tr>\n",
       "    <tr>\n",
       "      <th>max</th>\n",
       "      <td>1000.000000</td>\n",
       "      <td>119987.000000</td>\n",
       "    </tr>\n",
       "  </tbody>\n",
       "</table>\n",
       "</div>"
      ],
      "text/plain": [
       "                id         Income\n",
       "count   996.000000     998.000000\n",
       "mean    500.213855   84691.693387\n",
       "std     289.172174   20185.664319\n",
       "min       1.000000   50013.000000\n",
       "25%     249.750000   67353.000000\n",
       "50%     500.000000   84296.000000\n",
       "75%     750.250000  102374.750000\n",
       "max    1000.000000  119987.000000"
      ]
     },
     "execution_count": 7,
     "metadata": {},
     "output_type": "execute_result"
    }
   ],
   "source": [
    "people_df.describe()"
   ]
  },
  {
   "cell_type": "code",
   "execution_count": null,
   "metadata": {},
   "outputs": [],
   "source": []
  }
 ],
 "metadata": {
  "kernelspec": {
   "display_name": "Python 3",
   "language": "python",
   "name": "python3"
  },
  "language_info": {
   "codemirror_mode": {
    "name": "ipython",
    "version": 3
   },
   "file_extension": ".py",
   "mimetype": "text/x-python",
   "name": "python",
   "nbconvert_exporter": "python",
   "pygments_lexer": "ipython3",
   "version": "3.8.5"
  }
 },
 "nbformat": 4,
 "nbformat_minor": 4
}
